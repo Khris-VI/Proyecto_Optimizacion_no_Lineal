{
 "cells": [
  {
   "cell_type": "code",
   "execution_count": 26,
   "metadata": {},
   "outputs": [],
   "source": [
    "import os\n",
    "import numpy as np\n",
    "import pandas as pd\n",
    "import matplotlib.pyplot as plt\n",
    "import seaborn as sns\n",
    "import csv\n",
    "import random"
   ]
  },
  {
   "cell_type": "code",
   "execution_count": 32,
   "metadata": {},
   "outputs": [],
   "source": [
    "#Creacion de csv de los puntos y pesos originales\n",
    "point_list = [\n",
    "    [\"x\",\"y\",\"peso\"],\n",
    "    [39,522,0.001], #Centro de Atención Mutual ENEA\n",
    "    [147,503,0.01], #CESFAM Cardenal Raúl Silva Henríquez\n",
    "    [491,482, 1], #CECOSF Mar Caribe\n",
    "    [259,444,0.75], #CECOSF Concejal Guillermo Flores Opazo\n",
    "    [381,397,0.5], #Consultorio Coaniquem\n",
    "    [406,397,0.5], #CESFAM Pudahuel Estrella\n",
    "    [389,376,0.25], #SAR La Estrella\n",
    "    [419,375,0.001], #Fundacion Gantz\n",
    "    [219,318,0.25], #COSAM Municipal de Pudahuel\n",
    "    [495,275,0.90], #Centro de Referencia de Salud Dr Salvador Allende Gossens\n",
    "    [371,236,0.75], #Cosam Pudahuel\n",
    "    [246,239,0.75], #CESFAM Pudahuel Poniente\n",
    "    [433,213,1], #CECOSF Santa Corina\n",
    "    [463,115,0.5], #SAPU Violeta Parra\n",
    "    [473,109,0.5], #Centro de Salud Familiar Violeta Parra\n",
    "    [264,96,0.90], #SAPU Dr.Gustavo Molina Guzmán\n",
    "    [387,47,1], #CECOSF Padre Félix Gutiérrez Donoso\n",
    "    [409,18,1], #CECOSF Rio Claro\n",
    "]\n",
    "\n",
    "with open('points.csv', 'w', newline='') as file:\n",
    "    writer = csv.writer(file)\n",
    "    writer.writerows(point_list)"
   ]
  },
  {
   "cell_type": "code",
   "execution_count": 42,
   "metadata": {},
   "outputs": [],
   "source": [
    "#Datos con pesos aleatorios entre 0 y 1\n",
    "df = pd.DataFrame(point_list[1:],columns = point_list[0]).drop(\"peso\",axis=1)\n",
    "pesos = []\n",
    "for i in range(18):\n",
    "    pesos.append(random.random())\n",
    "pesos = pd.Series(np.array(pesos)).rename(\"peso\")\n",
    "\n",
    "df_peso = pd.concat([df, pesos],axis = 1)\n",
    "df_peso.to_csv(\"peso_random.csv\", index = False)"
   ]
  },
  {
   "cell_type": "code",
   "execution_count": 44,
   "metadata": {},
   "outputs": [],
   "source": [
    "#Perturbaciónde los datos con errores aleatorios entre -1 y 1\n",
    "point2_list = point_list\n",
    "lista_x = []\n",
    "lista_y = []\n",
    "for i in range(18):\n",
    "    lista_x.append(random.random() * 2 - 1)\n",
    "    lista_y.append(random.random() * 2 - 1)\n",
    "lista_x\n",
    "for i in range(1,19):\n",
    "    point2_list[i][0]+= lista_x[i-1]\n",
    "    point2_list[i][1]+= lista_y[i-1]\n",
    "with open('perturbacion_puntos.csv', 'w', newline='') as file:\n",
    "    writer = csv.writer(file)\n",
    "    writer.writerows(point2_list)"
   ]
  }
 ],
 "metadata": {
  "kernelspec": {
   "display_name": "Python 3",
   "language": "python",
   "name": "python3"
  },
  "language_info": {
   "codemirror_mode": {
    "name": "ipython",
    "version": 3
   },
   "file_extension": ".py",
   "mimetype": "text/x-python",
   "name": "python",
   "nbconvert_exporter": "python",
   "pygments_lexer": "ipython3",
   "version": "3.7.8"
  }
 },
 "nbformat": 4,
 "nbformat_minor": 4
}
